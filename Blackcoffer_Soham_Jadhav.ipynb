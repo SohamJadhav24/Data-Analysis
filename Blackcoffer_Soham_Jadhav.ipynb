{
  "nbformat": 4,
  "nbformat_minor": 0,
  "metadata": {
    "colab": {
      "provenance": []
    },
    "kernelspec": {
      "name": "python3",
      "display_name": "Python 3"
    },
    "language_info": {
      "name": "python"
    }
  },
  "cells": [
    {
      "cell_type": "markdown",
      "source": [
        "# **Name : Soham Santosh Jadhav**\n",
        "# **TY B.Tech**\n",
        "# **CGPA : 9.79**\n",
        "# **College: MIT-WPU**\n",
        "# **email : sai.sohamiit@gmail.com**"
      ],
      "metadata": {
        "id": "D-r8dkbkFs7C"
      }
    },
    {
      "cell_type": "markdown",
      "source": [
        "Step 1: Importing the required libraries"
      ],
      "metadata": {
        "id": "m_ELZ-nwE_f5"
      }
    },
    {
      "cell_type": "code",
      "execution_count": 219,
      "metadata": {
        "id": "PCuXY8FgCRTk"
      },
      "outputs": [],
      "source": [
        "import pandas as pd\n",
        "import nltk\n",
        "import requests\n",
        "from bs4 import BeautifulSoup\n",
        "from nltk.corpus import stopwords\n",
        "from nltk.tokenize import word_tokenize, sent_tokenize\n",
        "import re\n",
        "import os"
      ]
    },
    {
      "cell_type": "markdown",
      "source": [
        "Step 2: Load the Excel file"
      ],
      "metadata": {
        "id": "jJpqULKhCo51"
      }
    },
    {
      "cell_type": "code",
      "source": [
        "file_path = 'Input.xlsx'\n",
        "sheet_name = 'Sheet1'"
      ],
      "metadata": {
        "id": "YIl4-bCMCj0M"
      },
      "execution_count": 220,
      "outputs": []
    },
    {
      "cell_type": "markdown",
      "source": [
        "Step 3: Read the Excel file"
      ],
      "metadata": {
        "id": "3b6seoKvCzTq"
      }
    },
    {
      "cell_type": "code",
      "source": [
        "df = pd.read_excel(file_path, sheet_name=sheet_name)"
      ],
      "metadata": {
        "id": "cJfXUFk7CsEn"
      },
      "execution_count": 221,
      "outputs": []
    },
    {
      "cell_type": "code",
      "source": [
        "df.head()"
      ],
      "metadata": {
        "colab": {
          "base_uri": "https://localhost:8080/",
          "height": 206
        },
        "id": "Sx0dp5w3C3BD",
        "outputId": "09637f6a-3825-42a6-bf88-38f6b24eab62"
      },
      "execution_count": 222,
      "outputs": [
        {
          "output_type": "execute_result",
          "data": {
            "text/plain": [
              "            URL_ID                                                URL\n",
              "0  blackassign0001  https://insights.blackcoffer.com/rising-it-cit...\n",
              "1  blackassign0002  https://insights.blackcoffer.com/rising-it-cit...\n",
              "2  blackassign0003  https://insights.blackcoffer.com/internet-dema...\n",
              "3  blackassign0004  https://insights.blackcoffer.com/rise-of-cyber...\n",
              "4  blackassign0005  https://insights.blackcoffer.com/ott-platform-..."
            ],
            "text/html": [
              "\n",
              "  <div id=\"df-a5c8c32b-b3a8-47fb-93ca-99ff780bf9c9\" class=\"colab-df-container\">\n",
              "    <div>\n",
              "<style scoped>\n",
              "    .dataframe tbody tr th:only-of-type {\n",
              "        vertical-align: middle;\n",
              "    }\n",
              "\n",
              "    .dataframe tbody tr th {\n",
              "        vertical-align: top;\n",
              "    }\n",
              "\n",
              "    .dataframe thead th {\n",
              "        text-align: right;\n",
              "    }\n",
              "</style>\n",
              "<table border=\"1\" class=\"dataframe\">\n",
              "  <thead>\n",
              "    <tr style=\"text-align: right;\">\n",
              "      <th></th>\n",
              "      <th>URL_ID</th>\n",
              "      <th>URL</th>\n",
              "    </tr>\n",
              "  </thead>\n",
              "  <tbody>\n",
              "    <tr>\n",
              "      <th>0</th>\n",
              "      <td>blackassign0001</td>\n",
              "      <td>https://insights.blackcoffer.com/rising-it-cit...</td>\n",
              "    </tr>\n",
              "    <tr>\n",
              "      <th>1</th>\n",
              "      <td>blackassign0002</td>\n",
              "      <td>https://insights.blackcoffer.com/rising-it-cit...</td>\n",
              "    </tr>\n",
              "    <tr>\n",
              "      <th>2</th>\n",
              "      <td>blackassign0003</td>\n",
              "      <td>https://insights.blackcoffer.com/internet-dema...</td>\n",
              "    </tr>\n",
              "    <tr>\n",
              "      <th>3</th>\n",
              "      <td>blackassign0004</td>\n",
              "      <td>https://insights.blackcoffer.com/rise-of-cyber...</td>\n",
              "    </tr>\n",
              "    <tr>\n",
              "      <th>4</th>\n",
              "      <td>blackassign0005</td>\n",
              "      <td>https://insights.blackcoffer.com/ott-platform-...</td>\n",
              "    </tr>\n",
              "  </tbody>\n",
              "</table>\n",
              "</div>\n",
              "    <div class=\"colab-df-buttons\">\n",
              "\n",
              "  <div class=\"colab-df-container\">\n",
              "    <button class=\"colab-df-convert\" onclick=\"convertToInteractive('df-a5c8c32b-b3a8-47fb-93ca-99ff780bf9c9')\"\n",
              "            title=\"Convert this dataframe to an interactive table.\"\n",
              "            style=\"display:none;\">\n",
              "\n",
              "  <svg xmlns=\"http://www.w3.org/2000/svg\" height=\"24px\" viewBox=\"0 -960 960 960\">\n",
              "    <path d=\"M120-120v-720h720v720H120Zm60-500h600v-160H180v160Zm220 220h160v-160H400v160Zm0 220h160v-160H400v160ZM180-400h160v-160H180v160Zm440 0h160v-160H620v160ZM180-180h160v-160H180v160Zm440 0h160v-160H620v160Z\"/>\n",
              "  </svg>\n",
              "    </button>\n",
              "\n",
              "  <style>\n",
              "    .colab-df-container {\n",
              "      display:flex;\n",
              "      gap: 12px;\n",
              "    }\n",
              "\n",
              "    .colab-df-convert {\n",
              "      background-color: #E8F0FE;\n",
              "      border: none;\n",
              "      border-radius: 50%;\n",
              "      cursor: pointer;\n",
              "      display: none;\n",
              "      fill: #1967D2;\n",
              "      height: 32px;\n",
              "      padding: 0 0 0 0;\n",
              "      width: 32px;\n",
              "    }\n",
              "\n",
              "    .colab-df-convert:hover {\n",
              "      background-color: #E2EBFA;\n",
              "      box-shadow: 0px 1px 2px rgba(60, 64, 67, 0.3), 0px 1px 3px 1px rgba(60, 64, 67, 0.15);\n",
              "      fill: #174EA6;\n",
              "    }\n",
              "\n",
              "    .colab-df-buttons div {\n",
              "      margin-bottom: 4px;\n",
              "    }\n",
              "\n",
              "    [theme=dark] .colab-df-convert {\n",
              "      background-color: #3B4455;\n",
              "      fill: #D2E3FC;\n",
              "    }\n",
              "\n",
              "    [theme=dark] .colab-df-convert:hover {\n",
              "      background-color: #434B5C;\n",
              "      box-shadow: 0px 1px 3px 1px rgba(0, 0, 0, 0.15);\n",
              "      filter: drop-shadow(0px 1px 2px rgba(0, 0, 0, 0.3));\n",
              "      fill: #FFFFFF;\n",
              "    }\n",
              "  </style>\n",
              "\n",
              "    <script>\n",
              "      const buttonEl =\n",
              "        document.querySelector('#df-a5c8c32b-b3a8-47fb-93ca-99ff780bf9c9 button.colab-df-convert');\n",
              "      buttonEl.style.display =\n",
              "        google.colab.kernel.accessAllowed ? 'block' : 'none';\n",
              "\n",
              "      async function convertToInteractive(key) {\n",
              "        const element = document.querySelector('#df-a5c8c32b-b3a8-47fb-93ca-99ff780bf9c9');\n",
              "        const dataTable =\n",
              "          await google.colab.kernel.invokeFunction('convertToInteractive',\n",
              "                                                    [key], {});\n",
              "        if (!dataTable) return;\n",
              "\n",
              "        const docLinkHtml = 'Like what you see? Visit the ' +\n",
              "          '<a target=\"_blank\" href=https://colab.research.google.com/notebooks/data_table.ipynb>data table notebook</a>'\n",
              "          + ' to learn more about interactive tables.';\n",
              "        element.innerHTML = '';\n",
              "        dataTable['output_type'] = 'display_data';\n",
              "        await google.colab.output.renderOutput(dataTable, element);\n",
              "        const docLink = document.createElement('div');\n",
              "        docLink.innerHTML = docLinkHtml;\n",
              "        element.appendChild(docLink);\n",
              "      }\n",
              "    </script>\n",
              "  </div>\n",
              "\n",
              "\n",
              "<div id=\"df-48406fcc-fafd-4d20-a3eb-3a6f9407833e\">\n",
              "  <button class=\"colab-df-quickchart\" onclick=\"quickchart('df-48406fcc-fafd-4d20-a3eb-3a6f9407833e')\"\n",
              "            title=\"Suggest charts\"\n",
              "            style=\"display:none;\">\n",
              "\n",
              "<svg xmlns=\"http://www.w3.org/2000/svg\" height=\"24px\"viewBox=\"0 0 24 24\"\n",
              "     width=\"24px\">\n",
              "    <g>\n",
              "        <path d=\"M19 3H5c-1.1 0-2 .9-2 2v14c0 1.1.9 2 2 2h14c1.1 0 2-.9 2-2V5c0-1.1-.9-2-2-2zM9 17H7v-7h2v7zm4 0h-2V7h2v10zm4 0h-2v-4h2v4z\"/>\n",
              "    </g>\n",
              "</svg>\n",
              "  </button>\n",
              "\n",
              "<style>\n",
              "  .colab-df-quickchart {\n",
              "      --bg-color: #E8F0FE;\n",
              "      --fill-color: #1967D2;\n",
              "      --hover-bg-color: #E2EBFA;\n",
              "      --hover-fill-color: #174EA6;\n",
              "      --disabled-fill-color: #AAA;\n",
              "      --disabled-bg-color: #DDD;\n",
              "  }\n",
              "\n",
              "  [theme=dark] .colab-df-quickchart {\n",
              "      --bg-color: #3B4455;\n",
              "      --fill-color: #D2E3FC;\n",
              "      --hover-bg-color: #434B5C;\n",
              "      --hover-fill-color: #FFFFFF;\n",
              "      --disabled-bg-color: #3B4455;\n",
              "      --disabled-fill-color: #666;\n",
              "  }\n",
              "\n",
              "  .colab-df-quickchart {\n",
              "    background-color: var(--bg-color);\n",
              "    border: none;\n",
              "    border-radius: 50%;\n",
              "    cursor: pointer;\n",
              "    display: none;\n",
              "    fill: var(--fill-color);\n",
              "    height: 32px;\n",
              "    padding: 0;\n",
              "    width: 32px;\n",
              "  }\n",
              "\n",
              "  .colab-df-quickchart:hover {\n",
              "    background-color: var(--hover-bg-color);\n",
              "    box-shadow: 0 1px 2px rgba(60, 64, 67, 0.3), 0 1px 3px 1px rgba(60, 64, 67, 0.15);\n",
              "    fill: var(--button-hover-fill-color);\n",
              "  }\n",
              "\n",
              "  .colab-df-quickchart-complete:disabled,\n",
              "  .colab-df-quickchart-complete:disabled:hover {\n",
              "    background-color: var(--disabled-bg-color);\n",
              "    fill: var(--disabled-fill-color);\n",
              "    box-shadow: none;\n",
              "  }\n",
              "\n",
              "  .colab-df-spinner {\n",
              "    border: 2px solid var(--fill-color);\n",
              "    border-color: transparent;\n",
              "    border-bottom-color: var(--fill-color);\n",
              "    animation:\n",
              "      spin 1s steps(1) infinite;\n",
              "  }\n",
              "\n",
              "  @keyframes spin {\n",
              "    0% {\n",
              "      border-color: transparent;\n",
              "      border-bottom-color: var(--fill-color);\n",
              "      border-left-color: var(--fill-color);\n",
              "    }\n",
              "    20% {\n",
              "      border-color: transparent;\n",
              "      border-left-color: var(--fill-color);\n",
              "      border-top-color: var(--fill-color);\n",
              "    }\n",
              "    30% {\n",
              "      border-color: transparent;\n",
              "      border-left-color: var(--fill-color);\n",
              "      border-top-color: var(--fill-color);\n",
              "      border-right-color: var(--fill-color);\n",
              "    }\n",
              "    40% {\n",
              "      border-color: transparent;\n",
              "      border-right-color: var(--fill-color);\n",
              "      border-top-color: var(--fill-color);\n",
              "    }\n",
              "    60% {\n",
              "      border-color: transparent;\n",
              "      border-right-color: var(--fill-color);\n",
              "    }\n",
              "    80% {\n",
              "      border-color: transparent;\n",
              "      border-right-color: var(--fill-color);\n",
              "      border-bottom-color: var(--fill-color);\n",
              "    }\n",
              "    90% {\n",
              "      border-color: transparent;\n",
              "      border-bottom-color: var(--fill-color);\n",
              "    }\n",
              "  }\n",
              "</style>\n",
              "\n",
              "  <script>\n",
              "    async function quickchart(key) {\n",
              "      const quickchartButtonEl =\n",
              "        document.querySelector('#' + key + ' button');\n",
              "      quickchartButtonEl.disabled = true;  // To prevent multiple clicks.\n",
              "      quickchartButtonEl.classList.add('colab-df-spinner');\n",
              "      try {\n",
              "        const charts = await google.colab.kernel.invokeFunction(\n",
              "            'suggestCharts', [key], {});\n",
              "      } catch (error) {\n",
              "        console.error('Error during call to suggestCharts:', error);\n",
              "      }\n",
              "      quickchartButtonEl.classList.remove('colab-df-spinner');\n",
              "      quickchartButtonEl.classList.add('colab-df-quickchart-complete');\n",
              "    }\n",
              "    (() => {\n",
              "      let quickchartButtonEl =\n",
              "        document.querySelector('#df-48406fcc-fafd-4d20-a3eb-3a6f9407833e button');\n",
              "      quickchartButtonEl.style.display =\n",
              "        google.colab.kernel.accessAllowed ? 'block' : 'none';\n",
              "    })();\n",
              "  </script>\n",
              "</div>\n",
              "\n",
              "    </div>\n",
              "  </div>\n"
            ],
            "application/vnd.google.colaboratory.intrinsic+json": {
              "type": "dataframe",
              "variable_name": "df",
              "summary": "{\n  \"name\": \"df\",\n  \"rows\": 100,\n  \"fields\": [\n    {\n      \"column\": \"URL_ID\",\n      \"properties\": {\n        \"dtype\": \"string\",\n        \"num_unique_values\": 100,\n        \"samples\": [\n          \"blackassign0084\",\n          \"blackassign0054\",\n          \"blackassign0071\"\n        ],\n        \"semantic_type\": \"\",\n        \"description\": \"\"\n      }\n    },\n    {\n      \"column\": \"URL\",\n      \"properties\": {\n        \"dtype\": \"string\",\n        \"num_unique_values\": 100,\n        \"samples\": [\n          \"https://insights.blackcoffer.com/how-voice-search-makes-your-business-a-successful-business/\",\n          \"https://insights.blackcoffer.com/how-google-fit-measure-heart-and-respiratory-rates-using-a-phone/\",\n          \"https://insights.blackcoffer.com/how-to-overcome-your-fear-of-making-mistakes-2/\"\n        ],\n        \"semantic_type\": \"\",\n        \"description\": \"\"\n      }\n    }\n  ]\n}"
            }
          },
          "metadata": {},
          "execution_count": 222
        }
      ]
    },
    {
      "cell_type": "code",
      "source": [
        "urls = df.iloc[:, 1].tolist()"
      ],
      "metadata": {
        "id": "sqeM49B2C328"
      },
      "execution_count": 223,
      "outputs": []
    },
    {
      "cell_type": "markdown",
      "source": [
        "Step 4: Define a function for fetching article"
      ],
      "metadata": {
        "id": "Y7Avz3WIDBRg"
      }
    },
    {
      "cell_type": "code",
      "source": [
        "def fetch_article(url):\n",
        "    try:\n",
        "        response = requests.get(url)\n",
        "        response.raise_for_status()\n",
        "        soup = BeautifulSoup(response.content, 'lxml')\n",
        "\n",
        "        title = soup.find('title').get_text() if soup.find('title') else 'No title found'\n",
        "        article_body = soup.find('article')\n",
        "\n",
        "        if not article_body:\n",
        "            for class_name in ['content', 'main-content', 'post-content', 'entry-content']:\n",
        "                article_body = soup.find(class_=class_name)\n",
        "                if article_body:\n",
        "                    break\n",
        "\n",
        "        # Extracting text\n",
        "        if article_body:\n",
        "            paragraphs = article_body.find_all('p')\n",
        "            article_text = ' '.join([p.get_text() for p in paragraphs])\n",
        "        else:\n",
        "            article_text = 'No article content found'\n",
        "\n",
        "        return {'title': title, 'text': article_text}\n",
        "\n",
        "    except requests.RequestException as e:\n",
        "        print(f\"Error fetching {url}: {e}\")\n",
        "        return {'title': 'Error', 'text': 'Error'}"
      ],
      "metadata": {
        "id": "FRd7psw3C_ac"
      },
      "execution_count": 224,
      "outputs": []
    },
    {
      "cell_type": "markdown",
      "source": [
        "Step 5: Fetching articles"
      ],
      "metadata": {
        "id": "Y32o4aSeDnsS"
      }
    },
    {
      "cell_type": "code",
      "source": [
        "articles = [fetch_article(url) for url in urls]\n"
      ],
      "metadata": {
        "colab": {
          "base_uri": "https://localhost:8080/"
        },
        "id": "2g2sVAt9C-so",
        "outputId": "76552b31-564d-4743-910a-6eb9427f322a"
      },
      "execution_count": 225,
      "outputs": [
        {
          "output_type": "stream",
          "name": "stdout",
          "text": [
            "Error fetching https://insights.blackcoffer.com/how-neural-networks-can-be-applied-in-various-areas-in-the-future/: 404 Client Error: Not Found for url: https://insights.blackcoffer.com/how-neural-networks-can-be-applied-in-various-areas-in-the-future/\n",
            "Error fetching https://insights.blackcoffer.com/covid-19-environmental-impact-for-the-future/: 404 Client Error: Not Found for url: https://insights.blackcoffer.com/covid-19-environmental-impact-for-the-future/\n"
          ]
        }
      ]
    },
    {
      "cell_type": "markdown",
      "source": [
        "Step 6: Display articles"
      ],
      "metadata": {
        "id": "kJ32eHGLDrap"
      }
    },
    {
      "cell_type": "code",
      "source": [
        "for i, article in enumerate(articles[:3]):\n",
        "    print(f\"Article {i+1} Title: {article['title']}\")\n",
        "    print(f\"Article {i+1} Text: {article['text'][:500]}\")"
      ],
      "metadata": {
        "colab": {
          "base_uri": "https://localhost:8080/"
        },
        "id": "M5HoxsoaDpWl",
        "outputId": "f3cb908e-c23c-41e8-f303-7be2897e95be"
      },
      "execution_count": 226,
      "outputs": [
        {
          "output_type": "stream",
          "name": "stdout",
          "text": [
            "Article 1 Title: Rising IT cities and its impact on the economy, environment, infrastructure, and city life by the year 2040. - Blackcoffer Insights\n",
            "Article 1 Text: We have seen a huge development and dependence of people on technology in recent years. We have also seen the development of AI and ChatGPT in recent years. So it is a normal thing that we will become fully dependent on technology by 2040. Information technology will be a major power for all the developing nations. As a member of a developing nation, India is rapidly growing its IT base. It has also grown some IT cities which will be the major control centres for Information technology by 2040. \n",
            "Article 2 Title: Rising IT Cities and Their Impact on the Economy, Environment, Infrastructure, and City Life in Future - Blackcoffer Insights\n",
            "Article 2 Text: Throughout history, from the industrial revolution in the 18th century through the development of the Internet, technology has been the primary driver of societal change. It has aided in turning cities into smart urban centers that provide more opportunities and improvements in quality of life. It continues to play a crucial role in altering the world. Cities are acting as engines of economic growth and modernization as they become more technologically advanced, considerably accelerating the tra\n",
            "Article 3 Title: Internet Demand's Evolution, Communication Impact, and 2035's Alternative Pathways - Blackcoffer Insights\n",
            "Article 3 Text: Introduction In the span of just a few decades, the internet has undergone an astounding transformation, becoming an integral part of our lives. As we approach the year 2035, the demand for internet connectivity continues to surge, promising to revolutionize the way we communicate and interact with the world. It also has transformed from a limited communication tool to an all-encompassing global network that shapes our daily lives. As we hurtle toward the year 2035, the trajectory of internet de\n"
          ]
        }
      ]
    },
    {
      "cell_type": "code",
      "source": [
        "nltk.download('punkt')\n",
        "nltk.download('stopwords')\n",
        "\n",
        "stopwords_path = r'/content/drive/MyDrive/Test Assignemnet/Blackcoffer/StopWords'\n",
        "master_dict_path = r'/content/drive/MyDrive/Test Assignemnet/Blackcoffer/MasterDictionary'"
      ],
      "metadata": {
        "colab": {
          "base_uri": "https://localhost:8080/"
        },
        "id": "NyEDJnzrDuuF",
        "outputId": "395b71ad-8de2-4e8e-d312-553c559a174d"
      },
      "execution_count": 227,
      "outputs": [
        {
          "output_type": "stream",
          "name": "stderr",
          "text": [
            "[nltk_data] Downloading package punkt to /root/nltk_data...\n",
            "[nltk_data]   Package punkt is already up-to-date!\n",
            "[nltk_data] Downloading package stopwords to /root/nltk_data...\n",
            "[nltk_data]   Package stopwords is already up-to-date!\n"
          ]
        }
      ]
    },
    {
      "cell_type": "markdown",
      "source": [
        "Step 7: Set stopwords along with positive and negative words"
      ],
      "metadata": {
        "id": "zEj6BO3ZFUyJ"
      }
    },
    {
      "cell_type": "code",
      "source": [
        "stop_words = set()\n",
        "for filename in os.listdir(stopwords_path):\n",
        "    with open(os.path.join(stopwords_path, filename), 'r', encoding='ISO-8859-1') as file:\n",
        "        stop_words.update(file.read().lower().split())"
      ],
      "metadata": {
        "id": "-nhfBagCEC9F"
      },
      "execution_count": 228,
      "outputs": []
    },
    {
      "cell_type": "code",
      "source": [
        "positive_words = set()\n",
        "negative_words = set()\n",
        "with open(os.path.join(master_dict_path, 'positive-words.txt'), 'r', encoding='ISO-8859-1') as file:\n",
        "    positive_words.update(file.read().lower().split())\n",
        "with open(os.path.join(master_dict_path, 'negative-words.txt'), 'r', encoding='ISO-8859-1') as file:\n",
        "    negative_words.update(file.read().lower().split())"
      ],
      "metadata": {
        "id": "74UQ21tLEL9i"
      },
      "execution_count": 229,
      "outputs": []
    },
    {
      "cell_type": "markdown",
      "source": [
        "Step 8: Removing stopwords from positive and negative words"
      ],
      "metadata": {
        "id": "FA5CUrdcEUF_"
      }
    },
    {
      "cell_type": "code",
      "source": [
        "positive_words = positive_words - stop_words\n",
        "negative_words = negative_words - stop_words"
      ],
      "metadata": {
        "id": "Vw17TMskESQW"
      },
      "execution_count": 230,
      "outputs": []
    },
    {
      "cell_type": "markdown",
      "source": [
        "Step 9: Define functions for analysis"
      ],
      "metadata": {
        "id": "-3kFClD-FgzZ"
      }
    },
    {
      "cell_type": "code",
      "source": [
        "def clean_text(text):\n",
        "    text = re.sub(r'[^\\w\\s]', '', text)\n",
        "    words = word_tokenize(text.lower())\n",
        "    words = [word for word in words if word not in stop_words]\n",
        "    return words"
      ],
      "metadata": {
        "id": "DZtJSR3XEXiQ"
      },
      "execution_count": 231,
      "outputs": []
    },
    {
      "cell_type": "code",
      "source": [
        "def sentiment_analysis(words):\n",
        "    positive_score = sum(1 for word in words if word in positive_words)\n",
        "    negative_score = sum(1 for word in words if word in negative_words)\n",
        "    polarity_score = (positive_score - negative_score) / ((positive_score + negative_score) + 0.000001)\n",
        "    subjectivity_score = (positive_score + negative_score) / (len(words) + 0.000001)\n",
        "    return positive_score, negative_score, polarity_score, subjectivity_score"
      ],
      "metadata": {
        "id": "ah-7WuxUEaC9"
      },
      "execution_count": 232,
      "outputs": []
    },
    {
      "cell_type": "code",
      "source": [
        "def analysis_of_readability(text):\n",
        "    sentences = sent_tokenize(text)\n",
        "    words = word_tokenize(text)\n",
        "    num_sentences = len(sentences)\n",
        "    num_words = len(words)\n",
        "    complex_words = [word for word in words if len([char for char in word if char in 'aeiou']) > 2]\n",
        "    avg_sentence_length = num_words / num_sentences if num_sentences > 0 else 0\n",
        "    percentage_complex_words = len(complex_words) / num_words if num_words > 0 else 0\n",
        "    fog_index = 0.4 * (avg_sentence_length + percentage_complex_words)\n",
        "    return avg_sentence_length, percentage_complex_words, fog_index"
      ],
      "metadata": {
        "id": "2eD3BxLVEdr3"
      },
      "execution_count": 233,
      "outputs": []
    },
    {
      "cell_type": "code",
      "source": [
        "def count_complex_words(words):\n",
        "    return len([word for word in words if len([char for char in word if char in 'aeiou']) > 2])"
      ],
      "metadata": {
        "id": "NSL_e-zpEnyN"
      },
      "execution_count": 234,
      "outputs": []
    },
    {
      "cell_type": "code",
      "source": [
        "def syllable_count(word):\n",
        "    word = word.lower()\n",
        "    syllables = len(re.findall(r'[aeiouy]+', word))\n",
        "    if word.endswith('es') or word.endswith('ed'):\n",
        "        syllables = max(1, syllables - 1)\n",
        "    return syllables"
      ],
      "metadata": {
        "id": "RXOw7r1IEqf7"
      },
      "execution_count": 235,
      "outputs": []
    },
    {
      "cell_type": "code",
      "source": [
        "def text_metrics(text):\n",
        "    words = clean_text(text)\n",
        "    num_words = len(words)\n",
        "    syllable_counts = [syllable_count(word) for word in words]\n",
        "    avg_word_length = sum(len(word) for word in words) / num_words if num_words > 0 else 0\n",
        "    personal_pronouns = len(re.findall(r'\\b(I|we|my|ours|us)\\b', text, re.I))\n",
        "    return num_words, sum(syllable_counts), avg_word_length, personal_pronouns"
      ],
      "metadata": {
        "id": "LzIartp9Euz8"
      },
      "execution_count": 236,
      "outputs": []
    },
    {
      "cell_type": "code",
      "source": [
        "data_output = []"
      ],
      "metadata": {
        "id": "bDYt3c4tIPha"
      },
      "execution_count": 237,
      "outputs": []
    },
    {
      "cell_type": "code",
      "source": [
        "for i, article in enumerate(articles):\n",
        "    text = article['text']\n",
        "    words = clean_text(text)\n",
        "    positive_score, negative_score, polarity_score, subjectivity_score = sentiment_analysis(words)\n",
        "    avg_sentence_length, percentage_complex_words, fog_index = analysis_of_readability(text)\n",
        "    num_words, total_syllables, avg_word_length, personal_pronouns = text_metrics(text)\n",
        "\n",
        "    data_output.append({\n",
        "      'URL_ID': df.iloc[i, 0],\n",
        "      'URL': urls[i],\n",
        "      'TITLE': article['title'],\n",
        "      'POSITIVE SCORE': positive_score,\n",
        "      'NEGATIVE SCORE': negative_score,\n",
        "      'POLARITY SCORE': polarity_score,\n",
        "      'SUBJECTIVITY SCORE': subjectivity_score,\n",
        "      'AVERAGE SENTENCE LENGTH': avg_sentence_length,\n",
        "      'PERCENTAGE OF COMPLEX WORDS': percentage_complex_words,\n",
        "      'FOG INDEX': fog_index,\n",
        "      'NUMBER OF WORDS': num_words,\n",
        "      'TOTAL SYLLABLES': total_syllables,\n",
        "      'PERSONAL PRONOUNS': personal_pronouns,\n",
        "      'AVERAGE WORD LENGTH': avg_word_length\n",
        "    })"
      ],
      "metadata": {
        "id": "WMfoSfYbExzP"
      },
      "execution_count": 238,
      "outputs": []
    },
    {
      "cell_type": "markdown",
      "source": [
        "Step 10: Print the values of evaluation metrics"
      ],
      "metadata": {
        "id": "nz9ewhRDFd_j"
      }
    },
    {
      "cell_type": "code",
      "source": [
        "print(f\"Positive Score: {positive_score}\")\n",
        "print(f\"Negative Score: {negative_score}\")\n",
        "print(f\"Polarity Score: {polarity_score}\")\n",
        "print(f\"Subjectivity Score: {subjectivity_score}\")\n",
        "print(f\"Average Sentence Length: {avg_sentence_length}\")\n",
        "print(f\"Percentage of Complex Words: {percentage_complex_words}\")\n",
        "print(f\"Fog Index: {fog_index}\")\n",
        "print(f\"Number of Words: {num_words}\")\n",
        "print(f\"Total Syllables: {total_syllables}\")\n",
        "print(f\"Personal Pronouns: {personal_pronouns}\")\n",
        "print(f\"Average Word Length: {avg_word_length}\")\n",
        "\n"
      ],
      "metadata": {
        "colab": {
          "base_uri": "https://localhost:8080/"
        },
        "id": "2kNqeTPAE9Rx",
        "outputId": "345df31b-0f29-48ff-fea7-66700cc29357"
      },
      "execution_count": 239,
      "outputs": [
        {
          "output_type": "stream",
          "name": "stdout",
          "text": [
            "Positive Score: 28\n",
            "Negative Score: 54\n",
            "Polarity Score: -0.3170731668649614\n",
            "Subjectivity Score: 0.19617224833451616\n",
            "Average Sentence Length: 34.333333333333336\n",
            "Percentage of Complex Words: 0.2436893203883495\n",
            "Fog Index: 13.830809061488674\n",
            "Number of Words: 418\n",
            "Total Syllables: 972\n",
            "Personal Pronouns: 3\n",
            "Average Word Length: 7.366028708133971\n"
          ]
        }
      ]
    },
    {
      "cell_type": "markdown",
      "source": [
        "Step 11: Generate the output in Excel sheet"
      ],
      "metadata": {
        "id": "1vPNgWu6Hn4u"
      }
    },
    {
      "cell_type": "code",
      "source": [
        "# Prepare the output DataFrame\n",
        "df_output = pd.DataFrame(data_output)"
      ],
      "metadata": {
        "id": "dHque1ptHm6F"
      },
      "execution_count": 240,
      "outputs": []
    },
    {
      "cell_type": "code",
      "source": [
        "# Save the output to an Excel file\n",
        "output_filepath = '/content/drive/MyDrive/Test Assignemnet/Blackcoffer/Output_Analysis_Blackcoffer.xlsx'\n",
        "df_output.to_excel(output_filepath, index=False)\n",
        "\n",
        "print(f\"Successfully saved to {output_filepath}\")"
      ],
      "metadata": {
        "colab": {
          "base_uri": "https://localhost:8080/"
        },
        "id": "KlkllkkhH1w0",
        "outputId": "01529656-a928-48a5-cef4-35ba3541d079"
      },
      "execution_count": 241,
      "outputs": [
        {
          "output_type": "stream",
          "name": "stdout",
          "text": [
            "Successfully saved to /content/drive/MyDrive/Test Assignemnet/Blackcoffer/Output_Analysis_Blackcoffer.xlsx\n"
          ]
        }
      ]
    },
    {
      "cell_type": "code",
      "source": [],
      "metadata": {
        "id": "A59_Opv2I0lQ"
      },
      "execution_count": 241,
      "outputs": []
    }
  ]
}